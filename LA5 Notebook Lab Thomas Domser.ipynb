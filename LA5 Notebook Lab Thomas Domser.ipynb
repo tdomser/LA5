{
 "cells": [
  {
   "cell_type": "markdown",
   "id": "0488be07",
   "metadata": {},
   "source": [
    "# LA5 Notebook Lab\n",
    "## Thomas Domser"
   ]
  },
  {
   "cell_type": "markdown",
   "id": "ff0c9a10",
   "metadata": {},
   "source": [
    "### Task 1:\n",
    "\n",
    "##### Typeset Equations from Appendix A of Bramer, Principles of Data Science Algorithms\n",
    "\n",
    "$$\n",
    "\\log_{2}(a \\times b) = \\log_{2} a + \\log_{2} b\n",
    "$$\n",
    "\n",
    "$$\n",
    "\\log_{2}(a / b) = \\log_{2} a - \\log_{2} b\n",
    "$$\n",
    "\n",
    "$$\n",
    "\\log_{2}(a^n) = n \\times \\log_{2} a\n",
    "$$\n",
    "\n",
    "$$\n",
    "\\log_{2}(1 / a) = - \\log_{2} a\n",
    "$$\n",
    "\n",
    "$$\n",
    "\\sum_{i=1}^m \\sum_{j=1}^n a_{ij} = \\sum_{j=1}^n \\sum_{i=1}^m a_{ij}\n",
    "$$\n",
    "\n",
    "Source: [Bramer, Principles of Data Science Algorithms](https://www.amazon.com/Data-Science-Algorithms-Using-R/dp/036774939X)"
   ]
  },
  {
   "cell_type": "markdown",
   "id": "a03450ae",
   "metadata": {},
   "source": [
    "### Task 2:\n",
    "\n",
    "##### Formula for computing mean of a sequence of numbers $a$:\n",
    "\n",
    "$$\n",
    "\\bar{a} \\frac{1}{n} \\sum_{i=1}^{n} a_i\n",
    "$$"
   ]
  },
  {
   "cell_type": "code",
   "execution_count": 7,
   "id": "7c06cbf7",
   "metadata": {},
   "outputs": [
    {
     "name": "stdout",
     "output_type": "stream",
     "text": [
      "Mean of list 1:  46.46\n",
      "Mean of list 2:  255.14\n"
     ]
    }
   ],
   "source": [
    "import random\n",
    "\n",
    "def compute_mean(numbers):\n",
    "    return sum(numbers) / len(numbers)\n",
    "\n",
    "list1 = [random.randint(1, 100) for _ in range(100)]\n",
    "list2 = [random.randint(50, 500) for _ in range(100)]\n",
    "\n",
    "print(\"Mean of list 1: \", compute_mean(list1))\n",
    "print(\"Mean of list 2: \", compute_mean(list2))"
   ]
  },
  {
   "cell_type": "markdown",
   "id": "35a1afd1",
   "metadata": {},
   "source": [
    "### Task 3:\n",
    "\n",
    "##### Inserted a funny meme below\n",
    "\n",
    "![Funny Meme](meme.jpg)\n",
    "\n",
    "##### This meme is funny because it is marvel related and it is honestly true. Your test data set always fits what is required and then you never know if the training data will entirely work."
   ]
  }
 ],
 "metadata": {
  "kernelspec": {
   "display_name": "Python 3",
   "language": "python",
   "name": "python3"
  },
  "language_info": {
   "codemirror_mode": {
    "name": "ipython",
    "version": 3
   },
   "file_extension": ".py",
   "mimetype": "text/x-python",
   "name": "python",
   "nbconvert_exporter": "python",
   "pygments_lexer": "ipython3",
   "version": "3.11.3"
  }
 },
 "nbformat": 4,
 "nbformat_minor": 5
}
