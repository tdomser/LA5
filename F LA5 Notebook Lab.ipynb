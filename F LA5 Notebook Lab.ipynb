{
 "cells": [
  {
   "cell_type": "markdown",
   "metadata": {},
   "source": [
    "# [CPSC 322]() Data Science Algorithms\n",
    "[Gonzaga University](https://www.gonzaga.edu/) |\n",
    "[Sophina Luitel](https://www.gonzaga.edu/school-of-engineering-applied-science/faculty/detail/sophina-luitel-phd-0dba6a9d)\n",
    "\n",
    "---\n",
    "\n",
    "# LA5 Notebook Lab\n",
    "What are our learning objectives for this lesson?\n",
    "* Practice working with the syntax for Markdown and Latex\n",
    "\n",
    "Content used in this lesson is based upon information in the following sources:\n",
    "* Dr. Gina Sprints's notes from Data Science Algorithms, Fall 2024"
   ]
  },
  {
   "cell_type": "markdown",
   "metadata": {},
   "source": [
    "## Lab Overview\n",
    "Create a new Notebook called NotebookLab.ipynb. In NotebookLab.ipynb:\n",
    "1. Add a title (e.g., MA5 Notebook Lab) and your name\n",
    "1. Then, for each of the following tasks:\n",
    "    1. Add a section header and a description of the task\n",
    "    1. Add the necessary code/Markdown cells to complete the task\n",
    "\n",
    "### Task 1\n",
    "Typeset the following equations from Appendix A of Bramer:\n",
    "<img src=\"https://raw.githubusercontent.com/DataScienceAlgorithms/M3_DataAnalysis/main/figures/log_properties.png\" width=\"600\"/>\n",
    "\n",
    "<img src=\"https://raw.githubusercontent.com/DataScienceAlgorithms/M3_DataAnalysis/main/figures/double_subscript_notation.png\" width=\"600\"/>\n",
    "\n",
    "Then, cite the Bramer textbook as a source for the above equations by including an inline link to the Amazon page for the book.\n",
    "\n",
    "### Task 2\n",
    "1. Typeset the formula for computing the mean of a sequence of numbers $a$. Use `\\frac` to do this.\n",
    "1. Follow the formula with a code cell that contains the following:\n",
    "    1. A function definition for computing the mean of a 1D list of numbers\n",
    "    1. Declaration of 2 lists, each with 100 random numbers\n",
    "    1. Calls to your mean function to calculate the mean of each list\n",
    "\n",
    "### Task 3\n",
    "\n",
    "1. Insert image (a meme or cartoon) related to statistics, math, or data science.  \n",
    "1. Write a sentence explaining why it’s funny or relevant."
   ]
  }
 ],
 "metadata": {
  "anaconda-cloud": {},
  "kernelspec": {
   "display_name": "Python 3 (ipykernel)",
   "language": "python",
   "name": "python3"
  },
  "language_info": {
   "codemirror_mode": {
    "name": "ipython",
    "version": 3
   },
   "file_extension": ".py",
   "mimetype": "text/x-python",
   "name": "python",
   "nbconvert_exporter": "python",
   "pygments_lexer": "ipython3",
   "version": "3.13.5"
  }
 },
 "nbformat": 4,
 "nbformat_minor": 4
}
